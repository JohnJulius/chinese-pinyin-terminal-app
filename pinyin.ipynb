{
 "cells": [
  {
   "cell_type": "code",
   "execution_count": 1,
   "metadata": {},
   "outputs": [
    {
     "name": "stdout",
     "output_type": "stream",
     "text": [
      "Defaulting to user installation because normal site-packages is not writeable\n",
      "Collecting pinyin\n",
      "  Downloading pinyin-0.4.0.tar.gz (3.6 MB)\n",
      "     ---------------------------------------- 0.0/3.6 MB ? eta -:--:--\n",
      "     - -------------------------------------- 0.1/3.6 MB 2.6 MB/s eta 0:00:02\n",
      "     - -------------------------------------- 0.2/3.6 MB 2.1 MB/s eta 0:00:02\n",
      "     --- ------------------------------------ 0.3/3.6 MB 2.2 MB/s eta 0:00:02\n",
      "     ---- ----------------------------------- 0.4/3.6 MB 2.1 MB/s eta 0:00:02\n",
      "     ----- ---------------------------------- 0.5/3.6 MB 2.3 MB/s eta 0:00:02\n",
      "     ------ --------------------------------- 0.6/3.6 MB 2.2 MB/s eta 0:00:02\n",
      "     ------- -------------------------------- 0.7/3.6 MB 2.2 MB/s eta 0:00:02\n",
      "     -------- ------------------------------- 0.8/3.6 MB 2.2 MB/s eta 0:00:02\n",
      "     --------- ------------------------------ 0.9/3.6 MB 2.1 MB/s eta 0:00:02\n",
      "     ---------- ----------------------------- 1.0/3.6 MB 2.2 MB/s eta 0:00:02\n",
      "     ------------ --------------------------- 1.1/3.6 MB 2.2 MB/s eta 0:00:02\n",
      "     ------------- -------------------------- 1.2/3.6 MB 2.2 MB/s eta 0:00:02\n",
      "     -------------- ------------------------- 1.3/3.6 MB 2.2 MB/s eta 0:00:02\n",
      "     --------------- ------------------------ 1.4/3.6 MB 2.1 MB/s eta 0:00:02\n",
      "     ---------------- ----------------------- 1.5/3.6 MB 2.2 MB/s eta 0:00:01\n",
      "     ----------------- ---------------------- 1.6/3.6 MB 2.2 MB/s eta 0:00:01\n",
      "     ----------------- ---------------------- 1.6/3.6 MB 2.1 MB/s eta 0:00:01\n",
      "     ------------------ --------------------- 1.7/3.6 MB 2.1 MB/s eta 0:00:01\n",
      "     ------------------- -------------------- 1.8/3.6 MB 2.1 MB/s eta 0:00:01\n",
      "     -------------------- ------------------- 1.9/3.6 MB 2.0 MB/s eta 0:00:01\n",
      "     ---------------------- ----------------- 2.0/3.6 MB 2.1 MB/s eta 0:00:01\n",
      "     ----------------------- ---------------- 2.1/3.6 MB 2.1 MB/s eta 0:00:01\n",
      "     ------------------------ --------------- 2.2/3.6 MB 2.1 MB/s eta 0:00:01\n",
      "     ------------------------- -------------- 2.3/3.6 MB 2.1 MB/s eta 0:00:01\n",
      "     -------------------------- ------------- 2.4/3.6 MB 2.1 MB/s eta 0:00:01\n",
      "     --------------------------- ------------ 2.5/3.6 MB 2.1 MB/s eta 0:00:01\n",
      "     ---------------------------- ----------- 2.6/3.6 MB 2.1 MB/s eta 0:00:01\n",
      "     ----------------------------- ---------- 2.7/3.6 MB 2.1 MB/s eta 0:00:01\n",
      "     ------------------------------- -------- 2.8/3.6 MB 2.1 MB/s eta 0:00:01\n",
      "     -------------------------------- ------- 2.9/3.6 MB 2.1 MB/s eta 0:00:01\n",
      "     --------------------------------- ------ 3.0/3.6 MB 2.1 MB/s eta 0:00:01\n",
      "     ---------------------------------- ----- 3.1/3.6 MB 2.1 MB/s eta 0:00:01\n",
      "     ----------------------------------- ---- 3.2/3.6 MB 2.1 MB/s eta 0:00:01\n",
      "     ------------------------------------ --- 3.3/3.6 MB 2.1 MB/s eta 0:00:01\n",
      "     ------------------------------------- -- 3.4/3.6 MB 2.1 MB/s eta 0:00:01\n",
      "     -------------------------------------- - 3.5/3.6 MB 2.1 MB/s eta 0:00:01\n",
      "     ---------------------------------------  3.6/3.6 MB 2.1 MB/s eta 0:00:01\n",
      "     ---------------------------------------- 3.6/3.6 MB 2.1 MB/s eta 0:00:00\n",
      "  Preparing metadata (setup.py): started\n",
      "  Preparing metadata (setup.py): finished with status 'done'\n",
      "Installing collected packages: pinyin\n",
      "  Running setup.py install for pinyin: started\n",
      "  Running setup.py install for pinyin: finished with status 'done'\n",
      "Successfully installed pinyin-0.4.0\n",
      "Note: you may need to restart the kernel to use updated packages.\n"
     ]
    },
    {
     "name": "stderr",
     "output_type": "stream",
     "text": [
      "  DEPRECATION: pinyin is being installed using the legacy 'setup.py install' method, because it does not have a 'pyproject.toml' and the 'wheel' package is not installed. pip 23.1 will enforce this behaviour change. A possible replacement is to enable the '--use-pep517' option. Discussion can be found at https://github.com/pypa/pip/issues/8559\n",
      "\n",
      "[notice] A new release of pip is available: 23.0.1 -> 23.2.1\n",
      "[notice] To update, run: python.exe -m pip install --upgrade pip\n"
     ]
    }
   ],
   "source": [
    "pip install pinyin"
   ]
  },
  {
   "cell_type": "markdown",
   "metadata": {},
   "source": [
    "# Usage pinyin \n",
    ">import pinyin\n",
    "> print pinyin.get('你 好')\n",
    "nǐ hǎo\n",
    "\n",
    "> print pinyin.get('你好', format=\"strip\", delimiter=\" \")\n",
    "ni hao\n",
    "\n",
    "> print pinyin.get('你好', format=\"numerical\")\n",
    "ni3hao3\n",
    "\n",
    "> print pinyin.get_initial('你好')\n",
    "n h\n",
    "\n",
    "# Usage chindict \n",
    "``` python\n",
    "from chin_dict.chindict import ChinDict\n",
    "cd = ChinDict()\n",
    "for component in char_result.components:\n",
    "\tprint(component.character + \":\", component.meaning)\n",
    "word_result = cd.lookup_word(\"发\")\n",
    "```\n"
   ]
  },
  {
   "cell_type": "code",
   "execution_count": 2,
   "metadata": {},
   "outputs": [],
   "source": [
    "from chin_dict.chindict import ChinDict\n",
    "cd = ChinDict()"
   ]
  },
  {
   "cell_type": "code",
   "execution_count": 3,
   "metadata": {},
   "outputs": [
    {
     "ename": "AttributeError",
     "evalue": "'str' object has no attribute 'components'",
     "output_type": "error",
     "traceback": [
      "\u001b[1;31m---------------------------------------------------------------------------\u001b[0m",
      "\u001b[1;31mAttributeError\u001b[0m                            Traceback (most recent call last)",
      "\u001b[1;32mc:\\Users\\John Julius\\SeamasterProjects\\PinyinTerminal\\chinese-pinyin-terminal-app\\pinyin.ipynb Cell 4\u001b[0m line \u001b[0;36m1\n\u001b[0;32m      <a href='vscode-notebook-cell:/c%3A/Users/John%20Julius/SeamasterProjects/PinyinTerminal/chinese-pinyin-terminal-app/pinyin.ipynb#W1sZmlsZQ%3D%3D?line=7'>8</a>\u001b[0m     \u001b[39mbreak\u001b[39;00m\n\u001b[0;32m      <a href='vscode-notebook-cell:/c%3A/Users/John%20Julius/SeamasterProjects/PinyinTerminal/chinese-pinyin-terminal-app/pinyin.ipynb#W1sZmlsZQ%3D%3D?line=8'>9</a>\u001b[0m \u001b[39m# Otherwise, output the user input\u001b[39;00m\n\u001b[0;32m     <a href='vscode-notebook-cell:/c%3A/Users/John%20Julius/SeamasterProjects/PinyinTerminal/chinese-pinyin-terminal-app/pinyin.ipynb#W1sZmlsZQ%3D%3D?line=9'>10</a>\u001b[0m \u001b[39melse\u001b[39;00m:\n\u001b[1;32m---> <a href='vscode-notebook-cell:/c%3A/Users/John%20Julius/SeamasterProjects/PinyinTerminal/chinese-pinyin-terminal-app/pinyin.ipynb#W1sZmlsZQ%3D%3D?line=10'>11</a>\u001b[0m     \u001b[39mfor\u001b[39;00m component \u001b[39min\u001b[39;00m user_input\u001b[39m.\u001b[39;49mcomponents:\n\u001b[0;32m     <a href='vscode-notebook-cell:/c%3A/Users/John%20Julius/SeamasterProjects/PinyinTerminal/chinese-pinyin-terminal-app/pinyin.ipynb#W1sZmlsZQ%3D%3D?line=11'>12</a>\u001b[0m         \u001b[39mprint\u001b[39m(component\u001b[39m.\u001b[39mcharacter \u001b[39m+\u001b[39m \u001b[39m\"\u001b[39m\u001b[39m:\u001b[39m\u001b[39m\"\u001b[39m, component\u001b[39m.\u001b[39mmeaning)\n",
      "\u001b[1;31mAttributeError\u001b[0m: 'str' object has no attribute 'components'"
     ]
    }
   ],
   "source": [
    "# Define a loop that runs indefinitely\n",
    "while True:\n",
    "    # Ask for user input\n",
    "    user_input = input(\"Enter something: \")\n",
    "    # Check if the user input is \"break\"\n",
    "    if user_input == \"break\":\n",
    "        # Exit the loop\n",
    "        break\n",
    "    # Otherwise, output the user input\n",
    "    else:\n",
    "        char_result = cd.lookup_char(user_input)\n",
    "        for component in char_result.components:\n",
    "            print(component.character + \":\", component.meaning)\n"
   ]
  }
 ],
 "metadata": {
  "kernelspec": {
   "display_name": "Python 3",
   "language": "python",
   "name": "python3"
  },
  "language_info": {
   "codemirror_mode": {
    "name": "ipython",
    "version": 3
   },
   "file_extension": ".py",
   "mimetype": "text/x-python",
   "name": "python",
   "nbconvert_exporter": "python",
   "pygments_lexer": "ipython3",
   "version": "3.10.6"
  },
  "orig_nbformat": 4
 },
 "nbformat": 4,
 "nbformat_minor": 2
}
