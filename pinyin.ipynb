{
 "cells": [
  {
   "cell_type": "code",
   "execution_count": 1,
   "metadata": {},
   "outputs": [],
   "source": [
    "import csv\n",
    "word = \"柞\" #The word you want to lookup\n",
    "with open(\"input.csv\", encoding=\"utf-8\") as input_file, open(\"output.csv\", \"w\",encoding=\"utf-8\") as output_file:\n",
    "    reader = csv.reader(input_file, delimiter=\",\")\n",
    "    writer = csv.writer(output_file, delimiter=\",\")\n",
    "    for row in reader: #Iterates through the rows of the input file\n",
    "        if word in row: #If the word is in the row\n",
    "            writer.writerow(row) #Write the row to the output file\n"
   ]
  },
  {
   "cell_type": "code",
   "execution_count": 10,
   "metadata": {},
   "outputs": [],
   "source": [
    "def remove_numbers(string):\n",
    "  \"\"\"Removes all numbers from a string.\n",
    "\n",
    "  Args:\n",
    "    string: A string.\n",
    "\n",
    "  Returns:\n",
    "    A string without any numbers.\n",
    "  \"\"\"\n",
    "\n",
    "  new_string = \"\"\n",
    "  for char in string:\n",
    "    if not char.isdigit():\n",
    "      new_string += char\n",
    "  return new_string\n",
    "def extract_digits(text):\n",
    "  \"\"\"Extracts all digits from a string using the `isdigit()` function.\n",
    "\n",
    "  Args:\n",
    "    text: A string.\n",
    "\n",
    "  Returns:\n",
    "    A string containing all the digits in the input string.\n",
    "  \"\"\"\n",
    "  digits = ''\n",
    "  for char in text:\n",
    "    if char.isdigit():\n",
    "      digits += char\n",
    "  return digits"
   ]
  },
  {
   "cell_type": "code",
   "execution_count": 3,
   "metadata": {},
   "outputs": [],
   "source": [
    "word = '柞'\n",
    "with open(\"input.csv\", encoding=\"utf-8\") as f:\n",
    "    reader = csv.reader(f)\n",
    "    for row in reader:\n",
    "        if word in row[0]: # checks column for pinyin\n",
    "            remove_numbers(row[1])  \n",
    "            for scope in reader:\n",
    "                if  remove_numbers(row[1])==remove_numbers(scope[1]):\n",
    "                    print(row)"
   ]
  },
  {
   "cell_type": "markdown",
   "metadata": {},
   "source": [
    "Give HANZI -> All Pinyin Equivalent with Output Hanzi and English Definition\n",
    "\n",
    "Example 馔\n",
    "zhuan\n",
    "馔 = food/delicacies\n",
    "篆 = seal characters\n",
    "啭 = sing, chirp, warble, twitter"
   ]
  },
  {
   "cell_type": "code",
   "execution_count": 8,
   "metadata": {},
   "outputs": [
    {
     "name": "stdout",
     "output_type": "stream",
     "text": [
      "zhuan\n",
      "馔 = food/delicacies\n",
      "篆 = seal characters\n",
      "啭 = sing, chirp, warble, twitter\n"
     ]
    }
   ],
   "source": [
    "# Define a loop that runs indefinitely\n",
    "is_done = True\n",
    "while is_done:\n",
    "    # Ask for user input\n",
    "    word = input(\"Enter the word to search: \")\n",
    "    # Check if the user input is \"break\"\n",
    "    if word == \"break\":\n",
    "        # Exit the loop\n",
    "        break\n",
    "    # Otherwise, output the user input\n",
    "    else:\n",
    "        with open(\"input.csv\", encoding=\"utf-8\") as f:\n",
    "            reader = csv.reader(f)\n",
    "            for row in reader:\n",
    "                if word in row[0]: # checks column for pinyin\n",
    "                    pinyin = remove_numbers(row[1])\n",
    "                    print(pinyin)  \n",
    "                    for scope in reader:\n",
    "                        if  remove_numbers(row[1])==remove_numbers(scope[1]):\n",
    "                            print(scope[0]+\" = \"+ scope[2])\n",
    "            is_done = False\n",
    "        # with open(\"input.csv\", encoding=\"utf-8\") as f:\n",
    "        #     reader = csv.reader(f)\n",
    "        #     for row in reader:\n",
    "        #         if word in row:\n",
    "        #             print(row)\n",
    "\n",
    "\n"
   ]
  },
  {
   "cell_type": "markdown",
   "metadata": {},
   "source": [
    "Give Pinyin -> Group by Tone with Output Hanzi and English Definition\n",
    "\n",
    "Example chang2\n",
    "chang\n",
    "____________________________________\n",
    "High - 1st Tone | Rising - 2nd Tone\n",
    "Falling-Rising - 3rd Tone | Falling - 4th Tone\n",
    "____________________________________\n",
    "2nd :尝 = indicator of past tense/to taste/flavor/already/ever/once/test/already/formerly, to taste\n",
    "2nd :偿 = to compensate/pay back/to recompense\n",
    "2nd :肠 = intestines\n",
    "2nd :嫦 = a legendary beauty who flew to the moon/the lady in the moon\n",
    "2nd :苌 = carambola\n",
    "2nd :徜 = sit cross-legged/walk back and forth\n",
    "2nd :裳 = lower garment/skirts/petticoats/garments\n",
    "2nd :长 = length/long/forever/always/constantly, chief/head/elder/to grow/to develop\n",
    "3rd :场 = a courtyard/open space/place/field/a measure word/(a measure word, used for sport or recreation)\n",
    "3rd :厂 = cliff/slope/factory/yard/depot/workhouse/works/(industrial) plant\n",
    "3rd :敞 = spacious/uncovered\n",
    "3rd :昶 = bright/long day\n",
    "3rd :氅 = overcoat\n",
    "3rd :惝 = disappointed, disappointed\n",
    "4th :唱 = sing/to call loudly/to chant\n",
    "4th :畅 = smooth/fluent/joyful/happy\n",
    "4th :倡 = initiate/instigate/introduce/lead/initiate\n",
    "4th :怅 = regretful/upset/despair/depressed\n",
    "4th :鬯 = sacrificial spirit"
   ]
  },
  {
   "cell_type": "code",
   "execution_count": 44,
   "metadata": {},
   "outputs": [
    {
     "name": "stdout",
     "output_type": "stream",
     "text": [
      "chang\n",
      "____________________________________\n",
      "High - 1st Tone | Rising - 2nd Tone\n",
      "Falling-Rising - 3rd Tone | Falling - 4th Tone\n",
      "____________________________________\n",
      "2nd :尝 = indicator of past tense/to taste/flavor/already/ever/once/test/already/formerly, to taste\n",
      "2nd :偿 = to compensate/pay back/to recompense\n",
      "2nd :肠 = intestines\n",
      "2nd :嫦 = a legendary beauty who flew to the moon/the lady in the moon\n",
      "2nd :苌 = carambola\n",
      "2nd :徜 = sit cross-legged/walk back and forth\n",
      "2nd :裳 = lower garment/skirts/petticoats/garments\n",
      "2nd :长 = length/long/forever/always/constantly, chief/head/elder/to grow/to develop\n",
      "3rd :场 = a courtyard/open space/place/field/a measure word/(a measure word, used for sport or recreation)\n",
      "3rd :厂 = cliff/slope/factory/yard/depot/workhouse/works/(industrial) plant\n",
      "3rd :敞 = spacious/uncovered\n",
      "3rd :昶 = bright/long day\n",
      "3rd :氅 = overcoat\n",
      "3rd :惝 = disappointed, disappointed\n",
      "4th :唱 = sing/to call loudly/to chant\n",
      "4th :畅 = smooth/fluent/joyful/happy\n",
      "4th :倡 = initiate/instigate/introduce/lead/initiate\n",
      "4th :怅 = regretful/upset/despair/depressed\n",
      "4th :鬯 = sacrificial spirit\n"
     ]
    }
   ],
   "source": [
    "is_done = True\n",
    "while is_done:\n",
    "    # Ask for user input\n",
    "    word = input(\"Enter the word to search: \")\n",
    "    number = extract_digits(word)\n",
    "    \n",
    "    with open(\"input.csv\", encoding=\"utf-8\") as f:\n",
    "        reader = csv.reader(f)\n",
    "        for row in reader:\n",
    "            if word in row[1]: # checks column for pinyin\n",
    "\n",
    "                pinyin = remove_numbers(word)\n",
    "                print(pinyin)\n",
    "                print(\"____________________________________\")\n",
    "                print(\"High - 1st Tone | Rising - 2nd Tone\")\n",
    "                print(\"Falling-Rising - 3rd Tone | Falling - 4th Tone\")\n",
    "                print(\"____________________________________\")\n",
    "                for scope in reader:\n",
    "                    if  pinyin+\"1\" in scope[1]:\n",
    "                        print(\"1st :\"+scope[0]+\" = \"+ scope[2])\n",
    "                    if  pinyin+\"2\" in scope[1]:\n",
    "                        print(\"2nd :\"+scope[0]+\" = \"+ scope[2])\n",
    "                    if  pinyin+\"3\" in scope[1]:\n",
    "                        print(\"3rd :\"+scope[0]+\" = \"+ scope[2])\n",
    "                    if  pinyin+\"4\" in scope[1]:\n",
    "                        print(\"4th :\"+scope[0]+\" = \"+ scope[2])\n",
    "        is_done = False"
   ]
  },
  {
   "cell_type": "markdown",
   "metadata": {},
   "source": [
    "Give English -> Eng contain word with Output Hanzi and Pinyin Definition"
   ]
  },
  {
   "cell_type": "code",
   "execution_count": 53,
   "metadata": {},
   "outputs": [
    {
     "name": "stdout",
     "output_type": "stream",
     "text": [
      "咄:duo1 = noise of rage, cry out in anger\n",
      "呱:gu1/gua1 = crying sound of child\n",
      "喊:han3 = call/cry/to shout\n",
      "号:hao2/hao4 = roar/cry, day of a month/(suffix used after) name of a ship/(ordinal) number\n",
      "呼:hu1 = to call/to cry/to shout/to breath out/to exhale\n",
      "晶:jing1 = crystal\n",
      "哭:ku1 = to cry/to weep\n",
      "唳:li4 = cry of a crane or wild goose\n",
      "嘹:liao2 = clear sound/cry (of cranes etc.)\n",
      "咧:lie1/lie3 = child's cry, draw back corners of mouth\n",
      "鸣:ming2 = to cry (of birds)\n",
      "呐:na4/ne/na = battle cry, (final part.)\n",
      "啼:ti2 = mourn/to cry/hoof\n",
      "哇:wa1/wa = sound of child's crying\n",
      "哓:xiao1 = a cry of alarm/querulous\n",
      "咽:yan1/yan4/ye4 = narrow pass/throat, to swallow, to choke (in crying)\n",
      "薏:yi4 = Coix lacryma\n",
      "瑛:ying1 = (crystal)/lustrous\n"
     ]
    }
   ],
   "source": [
    "is_done = True\n",
    "while is_done:\n",
    "    # Ask for user input\n",
    "    word = input(\"Enter the word to search: \")\n",
    "    number = extract_digits(word)\n",
    "    \n",
    "    with open(\"input.csv\", encoding=\"utf-8\") as f:\n",
    "        reader = csv.reader(f)\n",
    "        for row in reader:\n",
    "            if word in row[2]: # checks column for pinyin\n",
    "                print(row[0] + \":\" +row[1]+\" = \"+ row[2])\n",
    "        is_done = False"
   ]
  }
 ],
 "metadata": {
  "kernelspec": {
   "display_name": "Python 3",
   "language": "python",
   "name": "python3"
  },
  "language_info": {
   "codemirror_mode": {
    "name": "ipython",
    "version": 3
   },
   "file_extension": ".py",
   "mimetype": "text/x-python",
   "name": "python",
   "nbconvert_exporter": "python",
   "pygments_lexer": "ipython3",
   "version": "3.10.6"
  },
  "orig_nbformat": 4
 },
 "nbformat": 4,
 "nbformat_minor": 2
}
